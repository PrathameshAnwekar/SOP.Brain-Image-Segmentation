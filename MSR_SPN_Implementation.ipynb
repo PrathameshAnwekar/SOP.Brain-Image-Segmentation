{
  "cells": [
    {
      "cell_type": "code",
      "execution_count": null,
      "metadata": {
        "id": "UMbnnWBTEO7E"
      },
      "outputs": [],
      "source": [
        "import torch\n",
        "import random"
      ]
    },
    {
      "cell_type": "code",
      "execution_count": null,
      "metadata": {
        "id": "BAORHNKbEK3M"
      },
      "outputs": [],
      "source": [
        "class SPNAugmentation(object):\n",
        "    def __init__(self, noise_level=0.1):\n",
        "        self.noise_level = noise_level\n",
        "\n",
        "    # img - image tensor with shape (C, H, W).\n",
        "    def __call__(self, img):\n",
        "        patch_size = 4  # adjustable\n",
        "        C, H, W = img.shape\n",
        "        num_patches_h = H\n",
        "        num_patches_w = W\n",
        "\n",
        "        for h in range(num_patches_h):\n",
        "            for w in range(num_patches_w):\n",
        "                if random.random() < self.noise_level:\n",
        "                    y1 = h * patch_size\n",
        "                    y2 = min(y1 + patch_size, H)\n",
        "                    x1 = w * patch_size\n",
        "                    x2 = min(x1 + patch_size, W)\n",
        "                    patch = img[:, y1:y2, x1:x2]\n",
        "                    # Shuffle pixels within the patch\n",
        "                    shuffled_patch = patch[torch.randperm(patch.numel())].view_as(patch)\n",
        "                    img[:, y1:y2, x1:x2] = shuffled_patch\n",
        "\n",
        "        return img"
      ]
    },
    {
      "cell_type": "code",
      "execution_count": null,
      "metadata": {
        "id": "pR2S3M86Er04"
      },
      "outputs": [],
      "source": [
        "spn = SPNAugmentation(noise_level=0.2)\n",
        "augmented_image = spn(img)"
      ]
    },
    {
      "cell_type": "markdown",
      "metadata": {
        "id": "jrJbPZgYEMDs"
      },
      "source": [
        "# Converting Image to C, H, W tensor"
      ]
    },
    {
      "cell_type": "code",
      "execution_count": 1,
      "metadata": {
        "id": "bzZ2NDUPGIdN"
      },
      "outputs": [],
      "source": [
        "from PIL import Image\n",
        "import numpy as np\n",
        "import torch"
      ]
    },
    {
      "cell_type": "code",
      "execution_count": 2,
      "metadata": {
        "id": "5wKLcMsSF83u"
      },
      "outputs": [],
      "source": [
        "def convert_img_to_tensor(path):\n",
        "  image = Image.open('path_to_your_image.jpg')\n",
        "\n",
        "  image_array = np.array(image)\n",
        "\n",
        "  image_tensor = torch.from_numpy(image_array)\n",
        "\n",
        "  # Permute the dimensions to match the (C, H, W) format\n",
        "  image_tensor = image_tensor.permute(2, 0, 1)\n",
        "\n",
        "  # Add batch dimension\n",
        "  image_tensor = image_tensor.unsqueeze(0)\n",
        "\n",
        "  print(image_tensor.shape)\n",
        "\n",
        "  return image_tensor"
      ]
    }
  ],
  "metadata": {
    "accelerator": "GPU",
    "colab": {
      "gpuType": "T4",
      "provenance": []
    },
    "kernelspec": {
      "display_name": "Python 3",
      "name": "python3"
    },
    "language_info": {
      "name": "python"
    }
  },
  "nbformat": 4,
  "nbformat_minor": 0
}
